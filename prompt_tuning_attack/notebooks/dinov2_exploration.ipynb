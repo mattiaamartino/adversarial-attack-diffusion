{
 "cells": [
  {
   "cell_type": "markdown",
   "metadata": {},
   "source": [
    "# DINOv2 Exploration\n",
    "\n",
    "This notebook is used for exploring the DINOv2 model, including loading the model, running predictions, and visualizing results."
   ]
  },
  {
   "cell_type": "code",
   "execution_count": 1,
   "metadata": {},
   "outputs": [],
   "source": [
    "from src.models.dinov2_model import Dinov2Model\n",
    "from src.utils.visualization import display_image\n",
    "import matplotlib.pyplot as plt\n",
    "\n",
    "# Initialize the DINOv2 model\n",
    "dinov2_model = Dinov2Model()\n",
    "dinov2_model.load_model()\n"
   ]
  },
  {
   "cell_type": "code",
   "execution_count": 2,
   "metadata": {},
   "outputs": [],
   "source": [
    "# Preprocess an input image\n",
    "input_image = 'path/to/your/image.jpg'  # Replace with your image path\n",
    "preprocessed_image = dinov2_model.preprocess_input(input_image)\n"
   ]
  },
  {
   "cell_type": "code",
   "execution_count": 3,
   "metadata": {},
   "outputs": [],
   "source": [
    "# Run prediction\n",
    "predictions = dinov2_model.predict(preprocessed_image)\n",
    "print(predictions)\n"
   ]
  },
  {
   "cell_type": "code",
   "execution_count": 4,
   "metadata": {},
   "outputs": [],
   "source": [
    "# Visualize the results\n",
    "plt.figure(figsize=(10, 5))\n",
    "display_image(input_image)\n",
    "plt.title('Input Image')\n",
    "plt.axis('off')\n",
    "plt.show()"
   ]
  }
 ],
 "metadata": {
  "kernelspec": {
   "display_name": "Python 3",
   "language": "python",
   "name": "python3"
  },
  "language_info": {
   "codemirror_mode": {
    "name": "ipython",
    "version": 3
   },
   "file_extension": ".py",
   "mimetype": "text/x-python",
   "name": "python",
   "nbconvert_exporter": "python",
   "pygments_lexer": "ipython3",
   "version": "3.8.5"
  }
 },
 "nbformat": 4,
 "nbformat_minor": 4
}