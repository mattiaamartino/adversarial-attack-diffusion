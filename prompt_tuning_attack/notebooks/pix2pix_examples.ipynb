{
 "cells": [
  {
   "cell_type": "markdown",
   "metadata": {},
   "source": [
    "# Pix2Pix Examples\n",
    "\n",
    "This notebook demonstrates the usage of the `timbrooks/instruct-pix2pix` model from Hugging Face. We will load the model, preprocess input images, generate images based on conditions, and visualize the results."
   ]
  },
  {
   "cell_type": "code",
   "execution_count": 1,
   "metadata": {},
   "outputs": [],
   "source": [
    "from src.models.pix2pix_model import Pix2PixModel\n",
    "from src.utils.image_processing import load_image, resize_image\n",
    "from src.utils.visualization import display_image\n",
    "\n",
    "# Initialize the Pix2Pix model\n",
    "pix2pix_model = Pix2PixModel()\n",
    "pix2pix_model.load_model()"
   ]
  },
  {
   "cell_type": "code",
   "execution_count": 2,
   "metadata": {},
   "outputs": [],
   "source": [
    "# Load and preprocess an input image\n",
    "input_image = load_image('path/to/your/input/image.jpg')\n",
    "input_image_resized = resize_image(input_image, (256, 256))  # Resize to model input size"
   ]
  },
  {
   "cell_type": "code",
   "execution_count": 3,
   "metadata": {},
   "outputs": [],
   "source": [
    "# Generate an image based on the input conditions\n",
    "generated_image = pix2pix_model.generate_image(input_image_resized)"
   ]
  },
  {
   "cell_type": "code",
   "execution_count": 4,
   "metadata": {},
   "outputs": [
    {
     "data": {
      "text/plain": [
       "<PIL.Image.Image image mode=RGB size=256x256 at 0x7F8C3D4A9D30>"
      ]
     },
     "execution_count": 4,
     "metadata": {},
     "output_type": "execute_result"
    }
   ],
   "source": [
    "# Display the generated image\n",
    "display_image(generated_image)"
   ]
  }
 ],
 "metadata": {
  "kernelspec": {
   "display_name": "Python 3",
   "language": "python",
   "name": "python3"
  },
  "language_info": {
   "codemirror_mode": {
    "name": "ipython",
    "version": 3
   },
   "file_extension": ".py",
   "mimetype": "text/x-python",
   "name": "python",
   "nbconvert_exporter": "python",
   "pygments_lexer": "ipython3",
   "version": "3.8.5"
  }
 },
 "nbformat": 4,
 "nbformat_minor": 4
}